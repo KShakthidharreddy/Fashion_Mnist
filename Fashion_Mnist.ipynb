{
  "nbformat": 4,
  "nbformat_minor": 0,
  "metadata": {
    "colab": {
      "name": "Fashion Mnist.ipynb",
      "provenance": [],
      "collapsed_sections": []
    },
    "kernelspec": {
      "name": "python3",
      "display_name": "Python 3"
    },
    "accelerator": "GPU"
  },
  "cells": [
    {
      "cell_type": "code",
      "metadata": {
        "id": "MKHeiWqpZdny",
        "colab_type": "code",
        "outputId": "814acac5-d635-4893-9801-f398df06a6b2",
        "colab": {
          "base_uri": "https://localhost:8080/",
          "height": 505
        }
      },
      "source": [
        "!pip install -U tensorflow_datasets"
      ],
      "execution_count": 1,
      "outputs": [
        {
          "output_type": "stream",
          "text": [
            "Collecting tensorflow_datasets\n",
            "\u001b[?25l  Downloading https://files.pythonhosted.org/packages/bd/99/996b15ff5d11166c3516012838f569f78d57b71d4aac051caea826f6c7e0/tensorflow_datasets-3.1.0-py3-none-any.whl (3.3MB)\n",
            "\r\u001b[K     |                                | 10kB 19.8MB/s eta 0:00:01\r\u001b[K     |▏                               | 20kB 5.7MB/s eta 0:00:01\r\u001b[K     |▎                               | 30kB 8.1MB/s eta 0:00:01\r\u001b[K     |▍                               | 40kB 10.2MB/s eta 0:00:01\r\u001b[K     |▌                               | 51kB 6.7MB/s eta 0:00:01\r\u001b[K     |▋                               | 61kB 7.4MB/s eta 0:00:01\r\u001b[K     |▊                               | 71kB 7.9MB/s eta 0:00:01\r\u001b[K     |▉                               | 81kB 8.3MB/s eta 0:00:01\r\u001b[K     |█                               | 92kB 8.0MB/s eta 0:00:01\r\u001b[K     |█                               | 102kB 8.7MB/s eta 0:00:01\r\u001b[K     |█                               | 112kB 8.7MB/s eta 0:00:01\r\u001b[K     |█▏                              | 122kB 8.7MB/s eta 0:00:01\r\u001b[K     |█▎                              | 133kB 8.7MB/s eta 0:00:01\r\u001b[K     |█▍                              | 143kB 8.7MB/s eta 0:00:01\r\u001b[K     |█▌                              | 153kB 8.7MB/s eta 0:00:01\r\u001b[K     |█▋                              | 163kB 8.7MB/s eta 0:00:01\r\u001b[K     |█▊                              | 174kB 8.7MB/s eta 0:00:01\r\u001b[K     |█▉                              | 184kB 8.7MB/s eta 0:00:01\r\u001b[K     |█▉                              | 194kB 8.7MB/s eta 0:00:01\r\u001b[K     |██                              | 204kB 8.7MB/s eta 0:00:01\r\u001b[K     |██                              | 215kB 8.7MB/s eta 0:00:01\r\u001b[K     |██▏                             | 225kB 8.7MB/s eta 0:00:01\r\u001b[K     |██▎                             | 235kB 8.7MB/s eta 0:00:01\r\u001b[K     |██▍                             | 245kB 8.7MB/s eta 0:00:01\r\u001b[K     |██▌                             | 256kB 8.7MB/s eta 0:00:01\r\u001b[K     |██▋                             | 266kB 8.7MB/s eta 0:00:01\r\u001b[K     |██▊                             | 276kB 8.7MB/s eta 0:00:01\r\u001b[K     |██▉                             | 286kB 8.7MB/s eta 0:00:01\r\u001b[K     |██▉                             | 296kB 8.7MB/s eta 0:00:01\r\u001b[K     |███                             | 307kB 8.7MB/s eta 0:00:01\r\u001b[K     |███                             | 317kB 8.7MB/s eta 0:00:01\r\u001b[K     |███▏                            | 327kB 8.7MB/s eta 0:00:01\r\u001b[K     |███▎                            | 337kB 8.7MB/s eta 0:00:01\r\u001b[K     |███▍                            | 348kB 8.7MB/s eta 0:00:01\r\u001b[K     |███▌                            | 358kB 8.7MB/s eta 0:00:01\r\u001b[K     |███▋                            | 368kB 8.7MB/s eta 0:00:01\r\u001b[K     |███▊                            | 378kB 8.7MB/s eta 0:00:01\r\u001b[K     |███▊                            | 389kB 8.7MB/s eta 0:00:01\r\u001b[K     |███▉                            | 399kB 8.7MB/s eta 0:00:01\r\u001b[K     |████                            | 409kB 8.7MB/s eta 0:00:01\r\u001b[K     |████                            | 419kB 8.7MB/s eta 0:00:01\r\u001b[K     |████▏                           | 430kB 8.7MB/s eta 0:00:01\r\u001b[K     |████▎                           | 440kB 8.7MB/s eta 0:00:01\r\u001b[K     |████▍                           | 450kB 8.7MB/s eta 0:00:01\r\u001b[K     |████▌                           | 460kB 8.7MB/s eta 0:00:01\r\u001b[K     |████▋                           | 471kB 8.7MB/s eta 0:00:01\r\u001b[K     |████▊                           | 481kB 8.7MB/s eta 0:00:01\r\u001b[K     |████▊                           | 491kB 8.7MB/s eta 0:00:01\r\u001b[K     |████▉                           | 501kB 8.7MB/s eta 0:00:01\r\u001b[K     |█████                           | 512kB 8.7MB/s eta 0:00:01\r\u001b[K     |█████                           | 522kB 8.7MB/s eta 0:00:01\r\u001b[K     |█████▏                          | 532kB 8.7MB/s eta 0:00:01\r\u001b[K     |█████▎                          | 542kB 8.7MB/s eta 0:00:01\r\u001b[K     |█████▍                          | 552kB 8.7MB/s eta 0:00:01\r\u001b[K     |█████▌                          | 563kB 8.7MB/s eta 0:00:01\r\u001b[K     |█████▋                          | 573kB 8.7MB/s eta 0:00:01\r\u001b[K     |█████▋                          | 583kB 8.7MB/s eta 0:00:01\r\u001b[K     |█████▊                          | 593kB 8.7MB/s eta 0:00:01\r\u001b[K     |█████▉                          | 604kB 8.7MB/s eta 0:00:01\r\u001b[K     |██████                          | 614kB 8.7MB/s eta 0:00:01\r\u001b[K     |██████                          | 624kB 8.7MB/s eta 0:00:01\r\u001b[K     |██████▏                         | 634kB 8.7MB/s eta 0:00:01\r\u001b[K     |██████▎                         | 645kB 8.7MB/s eta 0:00:01\r\u001b[K     |██████▍                         | 655kB 8.7MB/s eta 0:00:01\r\u001b[K     |██████▌                         | 665kB 8.7MB/s eta 0:00:01\r\u001b[K     |██████▋                         | 675kB 8.7MB/s eta 0:00:01\r\u001b[K     |██████▋                         | 686kB 8.7MB/s eta 0:00:01\r\u001b[K     |██████▊                         | 696kB 8.7MB/s eta 0:00:01\r\u001b[K     |██████▉                         | 706kB 8.7MB/s eta 0:00:01\r\u001b[K     |███████                         | 716kB 8.7MB/s eta 0:00:01\r\u001b[K     |███████                         | 727kB 8.7MB/s eta 0:00:01\r\u001b[K     |███████▏                        | 737kB 8.7MB/s eta 0:00:01\r\u001b[K     |███████▎                        | 747kB 8.7MB/s eta 0:00:01\r\u001b[K     |███████▍                        | 757kB 8.7MB/s eta 0:00:01\r\u001b[K     |███████▌                        | 768kB 8.7MB/s eta 0:00:01\r\u001b[K     |███████▌                        | 778kB 8.7MB/s eta 0:00:01\r\u001b[K     |███████▋                        | 788kB 8.7MB/s eta 0:00:01\r\u001b[K     |███████▊                        | 798kB 8.7MB/s eta 0:00:01\r\u001b[K     |███████▉                        | 808kB 8.7MB/s eta 0:00:01\r\u001b[K     |████████                        | 819kB 8.7MB/s eta 0:00:01\r\u001b[K     |████████                        | 829kB 8.7MB/s eta 0:00:01\r\u001b[K     |████████▏                       | 839kB 8.7MB/s eta 0:00:01\r\u001b[K     |████████▎                       | 849kB 8.7MB/s eta 0:00:01\r\u001b[K     |████████▍                       | 860kB 8.7MB/s eta 0:00:01\r\u001b[K     |████████▌                       | 870kB 8.7MB/s eta 0:00:01\r\u001b[K     |████████▌                       | 880kB 8.7MB/s eta 0:00:01\r\u001b[K     |████████▋                       | 890kB 8.7MB/s eta 0:00:01\r\u001b[K     |████████▊                       | 901kB 8.7MB/s eta 0:00:01\r\u001b[K     |████████▉                       | 911kB 8.7MB/s eta 0:00:01\r\u001b[K     |█████████                       | 921kB 8.7MB/s eta 0:00:01\r\u001b[K     |█████████                       | 931kB 8.7MB/s eta 0:00:01\r\u001b[K     |█████████▏                      | 942kB 8.7MB/s eta 0:00:01\r\u001b[K     |█████████▎                      | 952kB 8.7MB/s eta 0:00:01\r\u001b[K     |█████████▍                      | 962kB 8.7MB/s eta 0:00:01\r\u001b[K     |█████████▍                      | 972kB 8.7MB/s eta 0:00:01\r\u001b[K     |█████████▌                      | 983kB 8.7MB/s eta 0:00:01\r\u001b[K     |█████████▋                      | 993kB 8.7MB/s eta 0:00:01\r\u001b[K     |█████████▊                      | 1.0MB 8.7MB/s eta 0:00:01\r\u001b[K     |█████████▉                      | 1.0MB 8.7MB/s eta 0:00:01\r\u001b[K     |██████████                      | 1.0MB 8.7MB/s eta 0:00:01\r\u001b[K     |██████████                      | 1.0MB 8.7MB/s eta 0:00:01\r\u001b[K     |██████████▏                     | 1.0MB 8.7MB/s eta 0:00:01\r\u001b[K     |██████████▎                     | 1.1MB 8.7MB/s eta 0:00:01\r\u001b[K     |██████████▍                     | 1.1MB 8.7MB/s eta 0:00:01\r\u001b[K     |██████████▍                     | 1.1MB 8.7MB/s eta 0:00:01\r\u001b[K     |██████████▌                     | 1.1MB 8.7MB/s eta 0:00:01\r\u001b[K     |██████████▋                     | 1.1MB 8.7MB/s eta 0:00:01\r\u001b[K     |██████████▊                     | 1.1MB 8.7MB/s eta 0:00:01\r\u001b[K     |██████████▉                     | 1.1MB 8.7MB/s eta 0:00:01\r\u001b[K     |███████████                     | 1.1MB 8.7MB/s eta 0:00:01\r\u001b[K     |███████████                     | 1.1MB 8.7MB/s eta 0:00:01\r\u001b[K     |███████████▏                    | 1.1MB 8.7MB/s eta 0:00:01\r\u001b[K     |███████████▎                    | 1.2MB 8.7MB/s eta 0:00:01\r\u001b[K     |███████████▎                    | 1.2MB 8.7MB/s eta 0:00:01\r\u001b[K     |███████████▍                    | 1.2MB 8.7MB/s eta 0:00:01\r\u001b[K     |███████████▌                    | 1.2MB 8.7MB/s eta 0:00:01\r\u001b[K     |███████████▋                    | 1.2MB 8.7MB/s eta 0:00:01\r\u001b[K     |███████████▊                    | 1.2MB 8.7MB/s eta 0:00:01\r\u001b[K     |███████████▉                    | 1.2MB 8.7MB/s eta 0:00:01\r\u001b[K     |████████████                    | 1.2MB 8.7MB/s eta 0:00:01\r\u001b[K     |████████████                    | 1.2MB 8.7MB/s eta 0:00:01\r\u001b[K     |████████████▏                   | 1.2MB 8.7MB/s eta 0:00:01\r\u001b[K     |████████████▎                   | 1.3MB 8.7MB/s eta 0:00:01\r\u001b[K     |████████████▎                   | 1.3MB 8.7MB/s eta 0:00:01\r\u001b[K     |████████████▍                   | 1.3MB 8.7MB/s eta 0:00:01\r\u001b[K     |████████████▌                   | 1.3MB 8.7MB/s eta 0:00:01\r\u001b[K     |████████████▋                   | 1.3MB 8.7MB/s eta 0:00:01\r\u001b[K     |████████████▊                   | 1.3MB 8.7MB/s eta 0:00:01\r\u001b[K     |████████████▉                   | 1.3MB 8.7MB/s eta 0:00:01\r\u001b[K     |█████████████                   | 1.3MB 8.7MB/s eta 0:00:01\r\u001b[K     |█████████████                   | 1.3MB 8.7MB/s eta 0:00:01\r\u001b[K     |█████████████▏                  | 1.4MB 8.7MB/s eta 0:00:01\r\u001b[K     |█████████████▏                  | 1.4MB 8.7MB/s eta 0:00:01\r\u001b[K     |█████████████▎                  | 1.4MB 8.7MB/s eta 0:00:01\r\u001b[K     |█████████████▍                  | 1.4MB 8.7MB/s eta 0:00:01\r\u001b[K     |█████████████▌                  | 1.4MB 8.7MB/s eta 0:00:01\r\u001b[K     |█████████████▋                  | 1.4MB 8.7MB/s eta 0:00:01\r\u001b[K     |█████████████▊                  | 1.4MB 8.7MB/s eta 0:00:01\r\u001b[K     |█████████████▉                  | 1.4MB 8.7MB/s eta 0:00:01\r\u001b[K     |██████████████                  | 1.4MB 8.7MB/s eta 0:00:01\r\u001b[K     |██████████████                  | 1.4MB 8.7MB/s eta 0:00:01\r\u001b[K     |██████████████▏                 | 1.5MB 8.7MB/s eta 0:00:01\r\u001b[K     |██████████████▏                 | 1.5MB 8.7MB/s eta 0:00:01\r\u001b[K     |██████████████▎                 | 1.5MB 8.7MB/s eta 0:00:01\r\u001b[K     |██████████████▍                 | 1.5MB 8.7MB/s eta 0:00:01\r\u001b[K     |██████████████▌                 | 1.5MB 8.7MB/s eta 0:00:01\r\u001b[K     |██████████████▋                 | 1.5MB 8.7MB/s eta 0:00:01\r\u001b[K     |██████████████▊                 | 1.5MB 8.7MB/s eta 0:00:01\r\u001b[K     |██████████████▉                 | 1.5MB 8.7MB/s eta 0:00:01\r\u001b[K     |███████████████                 | 1.5MB 8.7MB/s eta 0:00:01\r\u001b[K     |███████████████                 | 1.5MB 8.7MB/s eta 0:00:01\r\u001b[K     |███████████████                 | 1.6MB 8.7MB/s eta 0:00:01\r\u001b[K     |███████████████▏                | 1.6MB 8.7MB/s eta 0:00:01\r\u001b[K     |███████████████▎                | 1.6MB 8.7MB/s eta 0:00:01\r\u001b[K     |███████████████▍                | 1.6MB 8.7MB/s eta 0:00:01\r\u001b[K     |███████████████▌                | 1.6MB 8.7MB/s eta 0:00:01\r\u001b[K     |███████████████▋                | 1.6MB 8.7MB/s eta 0:00:01\r\u001b[K     |███████████████▊                | 1.6MB 8.7MB/s eta 0:00:01\r\u001b[K     |███████████████▉                | 1.6MB 8.7MB/s eta 0:00:01\r\u001b[K     |████████████████                | 1.6MB 8.7MB/s eta 0:00:01\r\u001b[K     |████████████████                | 1.6MB 8.7MB/s eta 0:00:01\r\u001b[K     |████████████████                | 1.7MB 8.7MB/s eta 0:00:01\r\u001b[K     |████████████████▏               | 1.7MB 8.7MB/s eta 0:00:01\r\u001b[K     |████████████████▎               | 1.7MB 8.7MB/s eta 0:00:01\r\u001b[K     |████████████████▍               | 1.7MB 8.7MB/s eta 0:00:01\r\u001b[K     |████████████████▌               | 1.7MB 8.7MB/s eta 0:00:01\r\u001b[K     |████████████████▋               | 1.7MB 8.7MB/s eta 0:00:01\r\u001b[K     |████████████████▊               | 1.7MB 8.7MB/s eta 0:00:01\r\u001b[K     |████████████████▉               | 1.7MB 8.7MB/s eta 0:00:01\r\u001b[K     |█████████████████               | 1.7MB 8.7MB/s eta 0:00:01\r\u001b[K     |█████████████████               | 1.8MB 8.7MB/s eta 0:00:01\r\u001b[K     |█████████████████               | 1.8MB 8.7MB/s eta 0:00:01\r\u001b[K     |█████████████████▏              | 1.8MB 8.7MB/s eta 0:00:01\r\u001b[K     |█████████████████▎              | 1.8MB 8.7MB/s eta 0:00:01\r\u001b[K     |█████████████████▍              | 1.8MB 8.7MB/s eta 0:00:01\r\u001b[K     |█████████████████▌              | 1.8MB 8.7MB/s eta 0:00:01\r\u001b[K     |█████████████████▋              | 1.8MB 8.7MB/s eta 0:00:01\r\u001b[K     |█████████████████▊              | 1.8MB 8.7MB/s eta 0:00:01\r\u001b[K     |█████████████████▉              | 1.8MB 8.7MB/s eta 0:00:01\r\u001b[K     |██████████████████              | 1.8MB 8.7MB/s eta 0:00:01\r\u001b[K     |██████████████████              | 1.9MB 8.7MB/s eta 0:00:01\r\u001b[K     |██████████████████              | 1.9MB 8.7MB/s eta 0:00:01\r\u001b[K     |██████████████████▏             | 1.9MB 8.7MB/s eta 0:00:01\r\u001b[K     |██████████████████▎             | 1.9MB 8.7MB/s eta 0:00:01\r\u001b[K     |██████████████████▍             | 1.9MB 8.7MB/s eta 0:00:01\r\u001b[K     |██████████████████▌             | 1.9MB 8.7MB/s eta 0:00:01\r\u001b[K     |██████████████████▋             | 1.9MB 8.7MB/s eta 0:00:01\r\u001b[K     |██████████████████▊             | 1.9MB 8.7MB/s eta 0:00:01\r\u001b[K     |██████████████████▉             | 1.9MB 8.7MB/s eta 0:00:01\r\u001b[K     |██████████████████▉             | 1.9MB 8.7MB/s eta 0:00:01\r\u001b[K     |███████████████████             | 2.0MB 8.7MB/s eta 0:00:01\r\u001b[K     |███████████████████             | 2.0MB 8.7MB/s eta 0:00:01\r\u001b[K     |███████████████████▏            | 2.0MB 8.7MB/s eta 0:00:01\r\u001b[K     |███████████████████▎            | 2.0MB 8.7MB/s eta 0:00:01\r\u001b[K     |███████████████████▍            | 2.0MB 8.7MB/s eta 0:00:01\r\u001b[K     |███████████████████▌            | 2.0MB 8.7MB/s eta 0:00:01\r\u001b[K     |███████████████████▋            | 2.0MB 8.7MB/s eta 0:00:01\r\u001b[K     |███████████████████▊            | 2.0MB 8.7MB/s eta 0:00:01\r\u001b[K     |███████████████████▉            | 2.0MB 8.7MB/s eta 0:00:01\r\u001b[K     |███████████████████▉            | 2.0MB 8.7MB/s eta 0:00:01\r\u001b[K     |████████████████████            | 2.1MB 8.7MB/s eta 0:00:01\r\u001b[K     |████████████████████            | 2.1MB 8.7MB/s eta 0:00:01\r\u001b[K     |████████████████████▏           | 2.1MB 8.7MB/s eta 0:00:01\r\u001b[K     |████████████████████▎           | 2.1MB 8.7MB/s eta 0:00:01\r\u001b[K     |████████████████████▍           | 2.1MB 8.7MB/s eta 0:00:01\r\u001b[K     |████████████████████▌           | 2.1MB 8.7MB/s eta 0:00:01\r\u001b[K     |████████████████████▋           | 2.1MB 8.7MB/s eta 0:00:01\r\u001b[K     |████████████████████▊           | 2.1MB 8.7MB/s eta 0:00:01\r\u001b[K     |████████████████████▊           | 2.1MB 8.7MB/s eta 0:00:01\r\u001b[K     |████████████████████▉           | 2.2MB 8.7MB/s eta 0:00:01\r\u001b[K     |█████████████████████           | 2.2MB 8.7MB/s eta 0:00:01\r\u001b[K     |█████████████████████           | 2.2MB 8.7MB/s eta 0:00:01\r\u001b[K     |█████████████████████▏          | 2.2MB 8.7MB/s eta 0:00:01\r\u001b[K     |█████████████████████▎          | 2.2MB 8.7MB/s eta 0:00:01\r\u001b[K     |█████████████████████▍          | 2.2MB 8.7MB/s eta 0:00:01\r\u001b[K     |█████████████████████▌          | 2.2MB 8.7MB/s eta 0:00:01\r\u001b[K     |█████████████████████▋          | 2.2MB 8.7MB/s eta 0:00:01\r\u001b[K     |█████████████████████▊          | 2.2MB 8.7MB/s eta 0:00:01\r\u001b[K     |█████████████████████▊          | 2.2MB 8.7MB/s eta 0:00:01\r\u001b[K     |█████████████████████▉          | 2.3MB 8.7MB/s eta 0:00:01\r\u001b[K     |██████████████████████          | 2.3MB 8.7MB/s eta 0:00:01\r\u001b[K     |██████████████████████          | 2.3MB 8.7MB/s eta 0:00:01\r\u001b[K     |██████████████████████▏         | 2.3MB 8.7MB/s eta 0:00:01\r\u001b[K     |██████████████████████▎         | 2.3MB 8.7MB/s eta 0:00:01\r\u001b[K     |██████████████████████▍         | 2.3MB 8.7MB/s eta 0:00:01\r\u001b[K     |██████████████████████▌         | 2.3MB 8.7MB/s eta 0:00:01\r\u001b[K     |██████████████████████▋         | 2.3MB 8.7MB/s eta 0:00:01\r\u001b[K     |██████████████████████▋         | 2.3MB 8.7MB/s eta 0:00:01\r\u001b[K     |██████████████████████▊         | 2.3MB 8.7MB/s eta 0:00:01\r\u001b[K     |██████████████████████▉         | 2.4MB 8.7MB/s eta 0:00:01\r\u001b[K     |███████████████████████         | 2.4MB 8.7MB/s eta 0:00:01\r\u001b[K     |███████████████████████         | 2.4MB 8.7MB/s eta 0:00:01\r\u001b[K     |███████████████████████▏        | 2.4MB 8.7MB/s eta 0:00:01\r\u001b[K     |███████████████████████▎        | 2.4MB 8.7MB/s eta 0:00:01\r\u001b[K     |███████████████████████▍        | 2.4MB 8.7MB/s eta 0:00:01\r\u001b[K     |███████████████████████▌        | 2.4MB 8.7MB/s eta 0:00:01\r\u001b[K     |███████████████████████▋        | 2.4MB 8.7MB/s eta 0:00:01\r\u001b[K     |███████████████████████▋        | 2.4MB 8.7MB/s eta 0:00:01\r\u001b[K     |███████████████████████▊        | 2.4MB 8.7MB/s eta 0:00:01\r\u001b[K     |███████████████████████▉        | 2.5MB 8.7MB/s eta 0:00:01\r\u001b[K     |████████████████████████        | 2.5MB 8.7MB/s eta 0:00:01\r\u001b[K     |████████████████████████        | 2.5MB 8.7MB/s eta 0:00:01\r\u001b[K     |████████████████████████▏       | 2.5MB 8.7MB/s eta 0:00:01\r\u001b[K     |████████████████████████▎       | 2.5MB 8.7MB/s eta 0:00:01\r\u001b[K     |████████████████████████▍       | 2.5MB 8.7MB/s eta 0:00:01\r\u001b[K     |████████████████████████▌       | 2.5MB 8.7MB/s eta 0:00:01\r\u001b[K     |████████████████████████▌       | 2.5MB 8.7MB/s eta 0:00:01\r\u001b[K     |████████████████████████▋       | 2.5MB 8.7MB/s eta 0:00:01\r\u001b[K     |████████████████████████▊       | 2.5MB 8.7MB/s eta 0:00:01\r\u001b[K     |████████████████████████▉       | 2.6MB 8.7MB/s eta 0:00:01\r\u001b[K     |█████████████████████████       | 2.6MB 8.7MB/s eta 0:00:01\r\u001b[K     |█████████████████████████       | 2.6MB 8.7MB/s eta 0:00:01\r\u001b[K     |█████████████████████████▏      | 2.6MB 8.7MB/s eta 0:00:01\r\u001b[K     |█████████████████████████▎      | 2.6MB 8.7MB/s eta 0:00:01\r\u001b[K     |█████████████████████████▍      | 2.6MB 8.7MB/s eta 0:00:01\r\u001b[K     |█████████████████████████▌      | 2.6MB 8.7MB/s eta 0:00:01\r\u001b[K     |█████████████████████████▌      | 2.6MB 8.7MB/s eta 0:00:01\r\u001b[K     |█████████████████████████▋      | 2.6MB 8.7MB/s eta 0:00:01\r\u001b[K     |█████████████████████████▊      | 2.7MB 8.7MB/s eta 0:00:01\r\u001b[K     |█████████████████████████▉      | 2.7MB 8.7MB/s eta 0:00:01\r\u001b[K     |██████████████████████████      | 2.7MB 8.7MB/s eta 0:00:01\r\u001b[K     |██████████████████████████      | 2.7MB 8.7MB/s eta 0:00:01\r\u001b[K     |██████████████████████████▏     | 2.7MB 8.7MB/s eta 0:00:01\r\u001b[K     |██████████████████████████▎     | 2.7MB 8.7MB/s eta 0:00:01\r\u001b[K     |██████████████████████████▍     | 2.7MB 8.7MB/s eta 0:00:01\r\u001b[K     |██████████████████████████▍     | 2.7MB 8.7MB/s eta 0:00:01\r\u001b[K     |██████████████████████████▌     | 2.7MB 8.7MB/s eta 0:00:01\r\u001b[K     |██████████████████████████▋     | 2.7MB 8.7MB/s eta 0:00:01\r\u001b[K     |██████████████████████████▊     | 2.8MB 8.7MB/s eta 0:00:01\r\u001b[K     |██████████████████████████▉     | 2.8MB 8.7MB/s eta 0:00:01\r\u001b[K     |███████████████████████████     | 2.8MB 8.7MB/s eta 0:00:01\r\u001b[K     |███████████████████████████     | 2.8MB 8.7MB/s eta 0:00:01\r\u001b[K     |███████████████████████████▏    | 2.8MB 8.7MB/s eta 0:00:01\r\u001b[K     |███████████████████████████▎    | 2.8MB 8.7MB/s eta 0:00:01\r\u001b[K     |███████████████████████████▍    | 2.8MB 8.7MB/s eta 0:00:01\r\u001b[K     |███████████████████████████▍    | 2.8MB 8.7MB/s eta 0:00:01\r\u001b[K     |███████████████████████████▌    | 2.8MB 8.7MB/s eta 0:00:01\r\u001b[K     |███████████████████████████▋    | 2.8MB 8.7MB/s eta 0:00:01\r\u001b[K     |███████████████████████████▊    | 2.9MB 8.7MB/s eta 0:00:01\r\u001b[K     |███████████████████████████▉    | 2.9MB 8.7MB/s eta 0:00:01\r\u001b[K     |████████████████████████████    | 2.9MB 8.7MB/s eta 0:00:01\r\u001b[K     |████████████████████████████    | 2.9MB 8.7MB/s eta 0:00:01\r\u001b[K     |████████████████████████████▏   | 2.9MB 8.7MB/s eta 0:00:01\r\u001b[K     |████████████████████████████▎   | 2.9MB 8.7MB/s eta 0:00:01\r\u001b[K     |████████████████████████████▎   | 2.9MB 8.7MB/s eta 0:00:01\r\u001b[K     |████████████████████████████▍   | 2.9MB 8.7MB/s eta 0:00:01\r\u001b[K     |████████████████████████████▌   | 2.9MB 8.7MB/s eta 0:00:01\r\u001b[K     |████████████████████████████▋   | 2.9MB 8.7MB/s eta 0:00:01\r\u001b[K     |████████████████████████████▊   | 3.0MB 8.7MB/s eta 0:00:01\r\u001b[K     |████████████████████████████▉   | 3.0MB 8.7MB/s eta 0:00:01\r\u001b[K     |█████████████████████████████   | 3.0MB 8.7MB/s eta 0:00:01\r\u001b[K     |█████████████████████████████   | 3.0MB 8.7MB/s eta 0:00:01\r\u001b[K     |█████████████████████████████▏  | 3.0MB 8.7MB/s eta 0:00:01\r\u001b[K     |█████████████████████████████▎  | 3.0MB 8.7MB/s eta 0:00:01\r\u001b[K     |█████████████████████████████▎  | 3.0MB 8.7MB/s eta 0:00:01\r\u001b[K     |█████████████████████████████▍  | 3.0MB 8.7MB/s eta 0:00:01\r\u001b[K     |█████████████████████████████▌  | 3.0MB 8.7MB/s eta 0:00:01\r\u001b[K     |█████████████████████████████▋  | 3.1MB 8.7MB/s eta 0:00:01\r\u001b[K     |█████████████████████████████▊  | 3.1MB 8.7MB/s eta 0:00:01\r\u001b[K     |█████████████████████████████▉  | 3.1MB 8.7MB/s eta 0:00:01\r\u001b[K     |██████████████████████████████  | 3.1MB 8.7MB/s eta 0:00:01\r\u001b[K     |██████████████████████████████  | 3.1MB 8.7MB/s eta 0:00:01\r\u001b[K     |██████████████████████████████▏ | 3.1MB 8.7MB/s eta 0:00:01\r\u001b[K     |██████████████████████████████▏ | 3.1MB 8.7MB/s eta 0:00:01\r\u001b[K     |██████████████████████████████▎ | 3.1MB 8.7MB/s eta 0:00:01\r\u001b[K     |██████████████████████████████▍ | 3.1MB 8.7MB/s eta 0:00:01\r\u001b[K     |██████████████████████████████▌ | 3.1MB 8.7MB/s eta 0:00:01\r\u001b[K     |██████████████████████████████▋ | 3.2MB 8.7MB/s eta 0:00:01\r\u001b[K     |██████████████████████████████▊ | 3.2MB 8.7MB/s eta 0:00:01\r\u001b[K     |██████████████████████████████▉ | 3.2MB 8.7MB/s eta 0:00:01\r\u001b[K     |███████████████████████████████ | 3.2MB 8.7MB/s eta 0:00:01\r\u001b[K     |███████████████████████████████ | 3.2MB 8.7MB/s eta 0:00:01\r\u001b[K     |███████████████████████████████▏| 3.2MB 8.7MB/s eta 0:00:01\r\u001b[K     |███████████████████████████████▏| 3.2MB 8.7MB/s eta 0:00:01\r\u001b[K     |███████████████████████████████▎| 3.2MB 8.7MB/s eta 0:00:01\r\u001b[K     |███████████████████████████████▍| 3.2MB 8.7MB/s eta 0:00:01\r\u001b[K     |███████████████████████████████▌| 3.2MB 8.7MB/s eta 0:00:01\r\u001b[K     |███████████████████████████████▋| 3.3MB 8.7MB/s eta 0:00:01\r\u001b[K     |███████████████████████████████▊| 3.3MB 8.7MB/s eta 0:00:01\r\u001b[K     |███████████████████████████████▉| 3.3MB 8.7MB/s eta 0:00:01\r\u001b[K     |████████████████████████████████| 3.3MB 8.7MB/s eta 0:00:01\r\u001b[K     |████████████████████████████████| 3.3MB 8.7MB/s \n",
            "\u001b[?25hRequirement already satisfied, skipping upgrade: six in /usr/local/lib/python3.6/dist-packages (from tensorflow_datasets) (1.12.0)\n",
            "Requirement already satisfied, skipping upgrade: termcolor in /usr/local/lib/python3.6/dist-packages (from tensorflow_datasets) (1.1.0)\n",
            "Requirement already satisfied, skipping upgrade: future in /usr/local/lib/python3.6/dist-packages (from tensorflow_datasets) (0.16.0)\n",
            "Requirement already satisfied, skipping upgrade: requests>=2.19.0 in /usr/local/lib/python3.6/dist-packages (from tensorflow_datasets) (2.23.0)\n",
            "Requirement already satisfied, skipping upgrade: dill in /usr/local/lib/python3.6/dist-packages (from tensorflow_datasets) (0.3.1.1)\n",
            "Requirement already satisfied, skipping upgrade: protobuf>=3.6.1 in /usr/local/lib/python3.6/dist-packages (from tensorflow_datasets) (3.10.0)\n",
            "Requirement already satisfied, skipping upgrade: attrs>=18.1.0 in /usr/local/lib/python3.6/dist-packages (from tensorflow_datasets) (19.3.0)\n",
            "Requirement already satisfied, skipping upgrade: numpy in /usr/local/lib/python3.6/dist-packages (from tensorflow_datasets) (1.18.4)\n",
            "Requirement already satisfied, skipping upgrade: absl-py in /usr/local/lib/python3.6/dist-packages (from tensorflow_datasets) (0.9.0)\n",
            "Requirement already satisfied, skipping upgrade: wrapt in /usr/local/lib/python3.6/dist-packages (from tensorflow_datasets) (1.12.1)\n",
            "Requirement already satisfied, skipping upgrade: tqdm in /usr/local/lib/python3.6/dist-packages (from tensorflow_datasets) (4.41.1)\n",
            "Requirement already satisfied, skipping upgrade: promise in /usr/local/lib/python3.6/dist-packages (from tensorflow_datasets) (2.3)\n",
            "Requirement already satisfied, skipping upgrade: tensorflow-metadata in /usr/local/lib/python3.6/dist-packages (from tensorflow_datasets) (0.21.2)\n",
            "Requirement already satisfied, skipping upgrade: urllib3!=1.25.0,!=1.25.1,<1.26,>=1.21.1 in /usr/local/lib/python3.6/dist-packages (from requests>=2.19.0->tensorflow_datasets) (1.24.3)\n",
            "Requirement already satisfied, skipping upgrade: idna<3,>=2.5 in /usr/local/lib/python3.6/dist-packages (from requests>=2.19.0->tensorflow_datasets) (2.9)\n",
            "Requirement already satisfied, skipping upgrade: chardet<4,>=3.0.2 in /usr/local/lib/python3.6/dist-packages (from requests>=2.19.0->tensorflow_datasets) (3.0.4)\n",
            "Requirement already satisfied, skipping upgrade: certifi>=2017.4.17 in /usr/local/lib/python3.6/dist-packages (from requests>=2.19.0->tensorflow_datasets) (2020.4.5.1)\n",
            "Requirement already satisfied, skipping upgrade: setuptools in /usr/local/lib/python3.6/dist-packages (from protobuf>=3.6.1->tensorflow_datasets) (46.3.0)\n",
            "Requirement already satisfied, skipping upgrade: googleapis-common-protos in /usr/local/lib/python3.6/dist-packages (from tensorflow-metadata->tensorflow_datasets) (1.51.0)\n",
            "Installing collected packages: tensorflow-datasets\n",
            "  Found existing installation: tensorflow-datasets 2.1.0\n",
            "    Uninstalling tensorflow-datasets-2.1.0:\n",
            "      Successfully uninstalled tensorflow-datasets-2.1.0\n",
            "Successfully installed tensorflow-datasets-3.1.0\n"
          ],
          "name": "stdout"
        }
      ]
    },
    {
      "cell_type": "code",
      "metadata": {
        "id": "1Y0E6hqpZ2AZ",
        "colab_type": "code",
        "colab": {}
      },
      "source": [
        "import tensorflow as tf"
      ],
      "execution_count": 0,
      "outputs": []
    },
    {
      "cell_type": "code",
      "metadata": {
        "id": "HYMcAuMRZ8xz",
        "colab_type": "code",
        "colab": {}
      },
      "source": [
        "import tensorflow_datasets as tfds\n",
        "tfds.disable_progress_bar()\n",
        "\n",
        "import math\n",
        "import numpy as np\n",
        "import matplotlib.pyplot as plt"
      ],
      "execution_count": 0,
      "outputs": []
    },
    {
      "cell_type": "code",
      "metadata": {
        "id": "s95MAGS2acPx",
        "colab_type": "code",
        "colab": {}
      },
      "source": [
        "import logging \n",
        "logger = tf.get_logger()\n",
        "logger.setLevel(logging.ERROR)"
      ],
      "execution_count": 0,
      "outputs": []
    },
    {
      "cell_type": "code",
      "metadata": {
        "id": "6NyXubeiavbe",
        "colab_type": "code",
        "outputId": "72870173-44d5-4af2-e48e-829a00e988b9",
        "colab": {
          "base_uri": "https://localhost:8080/",
          "height": 35
        }
      },
      "source": [
        "import tqdm \n",
        "import tqdm.auto\n",
        "tqdm.tqdm = tqdm.auto.tqdm\n",
        "print(tf.__version__)\n",
        "# tf.enable_eager_execcution()"
      ],
      "execution_count": 5,
      "outputs": [
        {
          "output_type": "stream",
          "text": [
            "2.2.0\n"
          ],
          "name": "stdout"
        }
      ]
    },
    {
      "cell_type": "code",
      "metadata": {
        "id": "-jwhhTxKbPW5",
        "colab_type": "code",
        "colab": {
          "base_uri": "https://localhost:8080/",
          "height": 107
        },
        "outputId": "fcf7af8a-5451-4745-c635-69d2b5bb5af0"
      },
      "source": [
        "dataset,metadata = tfds.load('fashion_mnist', as_supervised=True, with_info=True)\n",
        "train_dataset, test_dataset = dataset['train'], dataset['test']"
      ],
      "execution_count": 6,
      "outputs": [
        {
          "output_type": "stream",
          "text": [
            "\u001b[1mDownloading and preparing dataset fashion_mnist/3.0.1 (download: 29.45 MiB, generated: 36.42 MiB, total: 65.87 MiB) to /root/tensorflow_datasets/fashion_mnist/3.0.1...\u001b[0m\n",
            "Shuffling and writing examples to /root/tensorflow_datasets/fashion_mnist/3.0.1.incompleteRFMKJQ/fashion_mnist-train.tfrecord\n",
            "Shuffling and writing examples to /root/tensorflow_datasets/fashion_mnist/3.0.1.incompleteRFMKJQ/fashion_mnist-test.tfrecord\n",
            "\u001b[1mDataset fashion_mnist downloaded and prepared to /root/tensorflow_datasets/fashion_mnist/3.0.1. Subsequent calls will reuse this data.\u001b[0m\n"
          ],
          "name": "stdout"
        }
      ]
    },
    {
      "cell_type": "code",
      "metadata": {
        "id": "_oEiUAPNbzub",
        "colab_type": "code",
        "colab": {}
      },
      "source": [
        "class_names = ['T-shirt/top', 'Trouser', 'Pullover', 'Dress', 'Coat',\n",
        "               'Sandal',      'Shirt',   'Sneaker',  'Bag',   'Ankle boot']"
      ],
      "execution_count": 0,
      "outputs": []
    },
    {
      "cell_type": "code",
      "metadata": {
        "id": "J4FaeqKYcL-I",
        "colab_type": "code",
        "outputId": "52c1d3b7-78c5-49f7-da46-3fcafa90337c",
        "colab": {
          "base_uri": "https://localhost:8080/",
          "height": 52
        }
      },
      "source": [
        "num_train_examples = metadata.splits['train'].num_examples\n",
        "num_test_examples = metadata.splits['test'].num_examples\n",
        "print(\"Number of training examples: {}\".format(num_train_examples))\n",
        "print(\"Number of test examples:     {}\".format(num_test_examples))"
      ],
      "execution_count": 8,
      "outputs": [
        {
          "output_type": "stream",
          "text": [
            "Number of training examples: 60000\n",
            "Number of test examples:     10000\n"
          ],
          "name": "stdout"
        }
      ]
    },
    {
      "cell_type": "code",
      "metadata": {
        "id": "lfnIEVzdcZZW",
        "colab_type": "code",
        "colab": {}
      },
      "source": [
        "def normalize(images,labels):\n",
        "  images = tf.cast(images,tf.float32)\n",
        "  images/=255\n",
        "  return images,labels\n",
        "\n",
        "train_dataset = train_dataset.map(normalize)\n",
        "test_dataset = test_dataset.map(normalize)\n",
        "\n",
        "train_dataset =  train_dataset.cache()\n",
        "test_dataset  =  test_dataset.cache()\n"
      ],
      "execution_count": 0,
      "outputs": []
    },
    {
      "cell_type": "code",
      "metadata": {
        "id": "wgYPVFQndDZ5",
        "colab_type": "code",
        "outputId": "42808dd3-c24d-49ce-e85f-20a6fe572064",
        "colab": {
          "base_uri": "https://localhost:8080/",
          "height": 269
        }
      },
      "source": [
        "for image, label in test_dataset.take(1):\n",
        "  break\n",
        "image = image.numpy().reshape((28,28))\n",
        "\n",
        "\n",
        "plt.figure()\n",
        "plt.imshow(image, cmap=plt.cm.binary)\n",
        "plt.colorbar()\n",
        "plt.grid(False)\n",
        "plt.show()"
      ],
      "execution_count": 10,
      "outputs": [
        {
          "output_type": "display_data",
          "data": {
            "image/png": "[encoded data removed]",
            "text/plain": [
              "<Figure size 432x288 with 2 Axes>"
            ]
          },
          "metadata": {
            "tags": [],
            "needs_background": "light"
          }
        }
      ]
    },
    {
      "cell_type": "code",
      "metadata": {
        "id": "QnCDpyO3dXrA",
        "colab_type": "code",
        "outputId": "8e097a78-5dc7-4193-bb8d-b33c71d49b6f",
        "colab": {
          "base_uri": "https://localhost:8080/",
          "height": 589
        }
      },
      "source": [
        "plt.figure(figsize=(10,10))\n",
        "i = 0\n",
        "for (image, label) in test_dataset.take(25):\n",
        "    image = image.numpy().reshape((28,28))\n",
        "    plt.subplot(5,5,i+1)\n",
        "    plt.xticks([])\n",
        "    plt.yticks([])\n",
        "    plt.grid(False)\n",
        "    plt.imshow(image, cmap=plt.cm.binary)\n",
        "    plt.xlabel(class_names[label])\n",
        "    i += 1\n",
        "plt.show()"
      ],
      "execution_count": 11,
      "outputs": [
        {
          "output_type": "display_data",
          "data": {
            "image/png": "[encoded data removed]",
            "text/plain": [
              "<Figure size 720x720 with 25 Axes>"
            ]
          },
          "metadata": {
            "tags": []
          }
        }
      ]
    },
    {
      "cell_type": "code",
      "metadata": {
        "id": "o8Vrzwzodumo",
        "colab_type": "code",
        "colab": {}
      },
      "source": [
        "model = tf.keras.Sequential([\n",
        "                            \n",
        "    tf.keras.layers.Flatten(input_shape=(28, 28, 1)),\n",
        "    tf.keras.layers.Dense(128, activation=tf.nn.relu),\n",
        "    tf.keras.layers.Dense(10)\n",
        "])"
      ],
      "execution_count": 0,
      "outputs": []
    },
    {
      "cell_type": "code",
      "metadata": {
        "id": "Gfme08bZeBD_",
        "colab_type": "code",
        "colab": {}
      },
      "source": [
        "from tensorflow.keras.optimizers import Adam\n",
        "opt = Adam(lr=0.0001)\n",
        "model.compile(optimizer=opt,\n",
        "              loss=tf.keras.losses.SparseCategoricalCrossentropy(from_logits=True),\n",
        "              metrics=['accuracy'])"
      ],
      "execution_count": 0,
      "outputs": []
    },
    {
      "cell_type": "code",
      "metadata": {
        "id": "vynSIncveDVH",
        "colab_type": "code",
        "colab": {}
      },
      "source": [
        "BATCH_SIZE = 32\n",
        "train_dataset = train_dataset.cache().repeat().shuffle(num_train_examples).batch(BATCH_SIZE)\n",
        "test_dataset = test_dataset.cache().batch(BATCH_SIZE)"
      ],
      "execution_count": 0,
      "outputs": []
    },
    {
      "cell_type": "code",
      "metadata": {
        "id": "PEx7nc11eO0E",
        "colab_type": "code",
        "outputId": "5ef94586-472e-4cf9-eb5b-7a485fff122d",
        "colab": {
          "base_uri": "https://localhost:8080/",
          "height": 1000
        }
      },
      "source": [
        "model.fit(train_dataset, epochs=30, steps_per_epoch=math.ceil(num_train_examples/BATCH_SIZE))"
      ],
      "execution_count": 15,
      "outputs": [
        {
          "output_type": "stream",
          "text": [
            "Epoch 1/30\n",
            "1875/1875 [==============================] - 4s 2ms/step - loss: 0.7107 - accuracy: 0.7687\n",
            "Epoch 2/30\n",
            "1875/1875 [==============================] - 4s 2ms/step - loss: 0.4834 - accuracy: 0.8370\n",
            "Epoch 3/30\n",
            "1875/1875 [==============================] - 4s 2ms/step - loss: 0.4369 - accuracy: 0.8509\n",
            "Epoch 4/30\n",
            "1875/1875 [==============================] - 4s 2ms/step - loss: 0.4066 - accuracy: 0.8595\n",
            "Epoch 5/30\n",
            "1875/1875 [==============================] - 4s 2ms/step - loss: 0.3914 - accuracy: 0.8640\n",
            "Epoch 6/30\n",
            "1875/1875 [==============================] - 4s 2ms/step - loss: 0.3791 - accuracy: 0.8674\n",
            "Epoch 7/30\n",
            "1875/1875 [==============================] - 4s 2ms/step - loss: 0.3575 - accuracy: 0.8754\n",
            "Epoch 8/30\n",
            "1875/1875 [==============================] - 4s 2ms/step - loss: 0.3557 - accuracy: 0.8754\n",
            "Epoch 9/30\n",
            "1875/1875 [==============================] - 4s 2ms/step - loss: 0.3406 - accuracy: 0.8806\n",
            "Epoch 10/30\n",
            "1875/1875 [==============================] - 4s 2ms/step - loss: 0.3385 - accuracy: 0.8824\n",
            "Epoch 11/30\n",
            "1875/1875 [==============================] - 4s 2ms/step - loss: 0.3270 - accuracy: 0.8847\n",
            "Epoch 12/30\n",
            "1875/1875 [==============================] - 4s 2ms/step - loss: 0.3228 - accuracy: 0.8864\n",
            "Epoch 13/30\n",
            "1875/1875 [==============================] - 4s 2ms/step - loss: 0.3157 - accuracy: 0.8874\n",
            "Epoch 14/30\n",
            "1875/1875 [==============================] - 4s 2ms/step - loss: 0.3090 - accuracy: 0.8902\n",
            "Epoch 15/30\n",
            "1875/1875 [==============================] - 4s 2ms/step - loss: 0.3021 - accuracy: 0.8912\n",
            "Epoch 16/30\n",
            "1875/1875 [==============================] - 4s 2ms/step - loss: 0.3013 - accuracy: 0.8940\n",
            "Epoch 17/30\n",
            "1875/1875 [==============================] - 4s 2ms/step - loss: 0.2942 - accuracy: 0.8939\n",
            "Epoch 18/30\n",
            "1875/1875 [==============================] - 4s 2ms/step - loss: 0.2872 - accuracy: 0.8975\n",
            "Epoch 19/30\n",
            "1875/1875 [==============================] - 4s 2ms/step - loss: 0.2846 - accuracy: 0.8984\n",
            "Epoch 20/30\n",
            "1875/1875 [==============================] - 4s 2ms/step - loss: 0.2807 - accuracy: 0.9011\n",
            "Epoch 21/30\n",
            "1875/1875 [==============================] - 4s 2ms/step - loss: 0.2798 - accuracy: 0.9000\n",
            "Epoch 22/30\n",
            "1875/1875 [==============================] - 4s 2ms/step - loss: 0.2756 - accuracy: 0.9013\n",
            "Epoch 23/30\n",
            "1875/1875 [==============================] - 4s 2ms/step - loss: 0.2669 - accuracy: 0.9044\n",
            "Epoch 24/30\n",
            "1875/1875 [==============================] - 4s 2ms/step - loss: 0.2680 - accuracy: 0.9030\n",
            "Epoch 25/30\n",
            "1875/1875 [==============================] - 4s 2ms/step - loss: 0.2640 - accuracy: 0.9053\n",
            "Epoch 26/30\n",
            "1875/1875 [==============================] - 4s 2ms/step - loss: 0.2638 - accuracy: 0.9072\n",
            "Epoch 27/30\n",
            "1875/1875 [==============================] - 4s 2ms/step - loss: 0.2588 - accuracy: 0.9070\n",
            "Epoch 28/30\n",
            "1875/1875 [==============================] - 4s 2ms/step - loss: 0.2580 - accuracy: 0.9077\n",
            "Epoch 29/30\n",
            "1875/1875 [==============================] - 4s 2ms/step - loss: 0.2520 - accuracy: 0.9094\n",
            "Epoch 30/30\n",
            "1875/1875 [==============================] - 4s 2ms/step - loss: 0.2506 - accuracy: 0.9096\n"
          ],
          "name": "stdout"
        },
        {
          "output_type": "execute_result",
          "data": {
            "text/plain": [
              "<tensorflow.python.keras.callbacks.History at 0x7fdaf8cb95c0>"
            ]
          },
          "metadata": {
            "tags": []
          },
          "execution_count": 15
        }
      ]
    },
    {
      "cell_type": "code",
      "metadata": {
        "id": "3cAWzUBaeQGN",
        "colab_type": "code",
        "outputId": "d3261b4e-6aa7-4997-8554-334c50686ffc",
        "colab": {
          "base_uri": "https://localhost:8080/",
          "height": 52
        }
      },
      "source": [
        "test_loss, test_accuracy = model.evaluate(test_dataset, steps=math.ceil(num_test_examples/32))\n",
        "print('Accuracy on test dataset:', test_accuracy)"
      ],
      "execution_count": 16,
      "outputs": [
        {
          "output_type": "stream",
          "text": [
            "313/313 [==============================] - 2s 5ms/step - loss: 0.3340 - accuracy: 0.8810\n",
            "Accuracy on test dataset: 0.8809999823570251\n"
          ],
          "name": "stdout"
        }
      ]
    },
    {
      "cell_type": "code",
      "metadata": {
        "id": "b1hhovfJjptr",
        "colab_type": "code",
        "colab": {}
      },
      "source": [
        "for test_images, test_labels in test_dataset.take(1):\n",
        "  test_images = test_images.numpy()\n",
        "  test_labels = test_labels.numpy()\n",
        "  predictions = model.predict(test_images)\n",
        "  "
      ],
      "execution_count": 0,
      "outputs": []
    },
    {
      "cell_type": "code",
      "metadata": {
        "id": "v7NZDSGZjziB",
        "colab_type": "code",
        "outputId": "382d87c0-f0df-47c9-80b9-8e54a2db85f0",
        "colab": {
          "base_uri": "https://localhost:8080/",
          "height": 35
        }
      },
      "source": [
        "predictions.shape\n"
      ],
      "execution_count": 18,
      "outputs": [
        {
          "output_type": "execute_result",
          "data": {
            "text/plain": [
              "(32, 10)"
            ]
          },
          "metadata": {
            "tags": []
          },
          "execution_count": 18
        }
      ]
    },
    {
      "cell_type": "code",
      "metadata": {
        "id": "6WYWzzhhj1Pl",
        "colab_type": "code",
        "outputId": "72a2c472-041e-4614-9f16-7dcde91eeb81",
        "colab": {
          "base_uri": "https://localhost:8080/",
          "height": 69
        }
      },
      "source": [
        "predictions[0]"
      ],
      "execution_count": 19,
      "outputs": [
        {
          "output_type": "execute_result",
          "data": {
            "text/plain": [
              "array([ -0.69010144,  -3.8461883 ,   3.3219402 ,  -5.0419226 ,\n",
              "         7.5312448 , -13.021375  ,   4.738801  , -11.502881  ,\n",
              "        -3.3255103 , -16.262146  ], dtype=float32)"
            ]
          },
          "metadata": {
            "tags": []
          },
          "execution_count": 19
        }
      ]
    },
    {
      "cell_type": "code",
      "metadata": {
        "id": "lNFZY8Ekj2wM",
        "colab_type": "code",
        "outputId": "0590f14a-41d9-43c3-f5d6-24daac2c95fd",
        "colab": {
          "base_uri": "https://localhost:8080/",
          "height": 35
        }
      },
      "source": [
        "np.argmax(predictions[0])"
      ],
      "execution_count": 20,
      "outputs": [
        {
          "output_type": "execute_result",
          "data": {
            "text/plain": [
              "4"
            ]
          },
          "metadata": {
            "tags": []
          },
          "execution_count": 20
        }
      ]
    },
    {
      "cell_type": "code",
      "metadata": {
        "id": "Wft5KCbckN39",
        "colab_type": "code",
        "outputId": "62ee7f9c-615c-41c3-d2e9-9157e8e1d3dd",
        "colab": {
          "base_uri": "https://localhost:8080/",
          "height": 35
        }
      },
      "source": [
        "test_labels[0]"
      ],
      "execution_count": 21,
      "outputs": [
        {
          "output_type": "execute_result",
          "data": {
            "text/plain": [
              "4"
            ]
          },
          "metadata": {
            "tags": []
          },
          "execution_count": 21
        }
      ]
    },
    {
      "cell_type": "code",
      "metadata": {
        "id": "RMHz_s8LkPhH",
        "colab_type": "code",
        "outputId": "f32fa7c9-84bf-43db-8d7f-227752e63599",
        "colab": {
          "base_uri": "https://localhost:8080/",
          "height": 35
        }
      },
      "source": [
        "i=np.argmax(predictions[0])\n",
        "print(class_names[i])"
      ],
      "execution_count": 22,
      "outputs": [
        {
          "output_type": "stream",
          "text": [
            "Coat\n"
          ],
          "name": "stdout"
        }
      ]
    },
    {
      "cell_type": "markdown",
      "metadata": {
        "id": "hTHt_thZ1SKf",
        "colab_type": "text"
      },
      "source": [
        "So, Now we try to implement the model to few more test_images and see the prediction\n"
      ]
    },
    {
      "cell_type": "code",
      "metadata": {
        "id": "LYoqDTX0n1AU",
        "colab_type": "code",
        "outputId": "54c7fddf-73dc-4fd2-e8a8-41a3305fc74b",
        "colab": {
          "base_uri": "https://localhost:8080/",
          "height": 35
        }
      },
      "source": [
        "img = test_images[0]\n",
        "pic = img\n",
        "print(img.shape)"
      ],
      "execution_count": 23,
      "outputs": [
        {
          "output_type": "stream",
          "text": [
            "(28, 28, 1)\n"
          ],
          "name": "stdout"
        }
      ]
    },
    {
      "cell_type": "code",
      "metadata": {
        "id": "L1tFghJCoVwK",
        "colab_type": "code",
        "outputId": "5b9ba8da-9022-4b97-8f29-56717b16c9b1",
        "colab": {
          "base_uri": "https://localhost:8080/",
          "height": 35
        }
      },
      "source": [
        "img = np.array([img])\n",
        "print(img.shape)"
      ],
      "execution_count": 24,
      "outputs": [
        {
          "output_type": "stream",
          "text": [
            "(1, 28, 28, 1)\n"
          ],
          "name": "stdout"
        }
      ]
    },
    {
      "cell_type": "code",
      "metadata": {
        "id": "AoJgVg8uoYYH",
        "colab_type": "code",
        "outputId": "8f079d72-2078-48e7-f0ae-273a3a0078a1",
        "colab": {
          "base_uri": "https://localhost:8080/",
          "height": 35
        }
      },
      "source": [
        "pred=model.predict(img)\n",
        "i = np.argmax(pred)\n",
        "print (class_names[i])"
      ],
      "execution_count": 25,
      "outputs": [
        {
          "output_type": "stream",
          "text": [
            "Coat\n"
          ],
          "name": "stdout"
        }
      ]
    },
    {
      "cell_type": "code",
      "metadata": {
        "id": "d5ffkTv_o8e5",
        "colab_type": "code",
        "outputId": "2ec44b2d-ef25-4acf-fa73-a1d7644a48d6",
        "colab": {
          "base_uri": "https://localhost:8080/",
          "height": 269
        }
      },
      "source": [
        "pic = pic.reshape((28,28))\n",
        "plt.figure()\n",
        "plt.imshow(pic, cmap=plt.cm.binary)\n",
        "plt.colorbar()\n",
        "plt.grid(False)\n",
        "plt.show()"
      ],
      "execution_count": 26,
      "outputs": [
        {
          "output_type": "display_data",
          "data": {
            "image/png": "[encoded data removed]",
            "text/plain": [
              "<Figure size 432x288 with 2 Axes>"
            ]
          },
          "metadata": {
            "tags": [],
            "needs_background": "light"
          }
        }
      ]
    },
    {
      "cell_type": "markdown",
      "metadata": {
        "id": "gu5sff3fDHDh",
        "colab_type": "text"
      },
      "source": [
        "Now lets test it on realtime Data\n"
      ]
    },
    {
      "cell_type": "code",
      "metadata": {
        "id": "FUEdJsRnquey",
        "colab_type": "code",
        "colab": {}
      },
      "source": [
        "from google.colab import files\n",
        "# from Python.display import Images"
      ],
      "execution_count": 0,
      "outputs": []
    },
    {
      "cell_type": "code",
      "metadata": {
        "id": "-Pr-JJIocJEJ",
        "colab_type": "code",
        "outputId": "af7a1c90-9225-41ce-c135-e24d5cc4503a",
        "colab": {
          "resources": {
            "http://localhost:8080/nbextensions/google.colab/files.js": {
              "data": "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",
              "ok": true,
              "headers": [
                [
                  "content-type",
                  "application/javascript"
                ]
              ],
              "status": 200,
              "status_text": ""
            }
          },
          "base_uri": "https://localhost:8080/",
          "height": 75
        }
      },
      "source": [
        "uploaded = files.upload()"
      ],
      "execution_count": 67,
      "outputs": [
        {
          "output_type": "display_data",
          "data": {
            "text/html": [
              "\n",
              "     <input type=\"file\" id=\"files-f1335162-c299-40db-bedc-345f676dd362\" name=\"files[]\" multiple disabled />\n",
              "     <output id=\"result-f1335162-c299-40db-bedc-345f676dd362\">\n",
              "      Upload widget is only available when the cell has been executed in the\n",
              "      current browser session. Please rerun this cell to enable.\n",
              "      </output>\n",
              "      <script src=\"/nbextensions/google.colab/files.js\"></script> "
            ],
            "text/plain": [
              "<IPython.core.display.HTML object>"
            ]
          },
          "metadata": {
            "tags": []
          }
        },
        {
          "output_type": "stream",
          "text": [
            "Saving tshirt.png to tshirt.png\n"
          ],
          "name": "stdout"
        }
      ]
    },
    {
      "cell_type": "code",
      "metadata": {
        "id": "tbNzdXu4dCJ9",
        "colab_type": "code",
        "colab": {}
      },
      "source": [
        "from PIL import Image\n",
        "from IPython.display import display"
      ],
      "execution_count": 0,
      "outputs": []
    },
    {
      "cell_type": "code",
      "metadata": {
        "id": "k93NoJS5tani",
        "colab_type": "code",
        "outputId": "52c81cfa-236e-4612-e393-7dcf183374d2",
        "colab": {
          "base_uri": "https://localhost:8080/",
          "height": 208
        }
      },
      "source": [
        "!wget -O tshirt.png https://cdn.pixabay.com/photo/2016/12/06/09/31/blank-1886008_1280.png\n",
        "\n",
        "# my_image = tf.keras.preprocessing.image.load_img('/content/sneakers.jpg', color_mode = \"grayscale\", target_size=(28,28))"
      ],
      "execution_count": 74,
      "outputs": [
        {
          "output_type": "stream",
          "text": [
            "--2020-05-17 08:02:04--  https://cdn.pixabay.com/photo/2016/12/06/09/31/blank-1886008_1280.png\n",
            "Resolving cdn.pixabay.com (cdn.pixabay.com)... 104.18.20.183, 104.18.21.183, 2606:4700::6812:14b7, ...\n",
            "Connecting to cdn.pixabay.com (cdn.pixabay.com)|104.18.20.183|:443... connected.\n",
            "HTTP request sent, awaiting response... 200 OK\n",
            "Length: 597629 (584K) [image/png]\n",
            "Saving to: ‘tshirt.png’\n",
            "\n",
            "\rtshirt.png            0%[                    ]       0  --.-KB/s               \rtshirt.png          100%[===================>] 583.62K  --.-KB/s    in 0.02s   \n",
            "\n",
            "2020-05-17 08:02:04 (37.5 MB/s) - ‘tshirt.png’ saved [597629/597629]\n",
            "\n"
          ],
          "name": "stdout"
        }
      ]
    },
    {
      "cell_type": "code",
      "metadata": {
        "id": "vb2mydiu6owl",
        "colab_type": "code",
        "outputId": "d85254a5-b219-4b0b-cd29-e85f06bfd077",
        "colab": {
          "base_uri": "https://localhost:8080/",
          "height": 287
        }
      },
      "source": [
        "import matplotlib\n",
        "an_image = matplotlib.image.imread(\"/content/tshirt.png\")\n",
        "img = Image.open(\"/content/tshirt.png\")\n",
        "plt.imshow(img)"
      ],
      "execution_count": 75,
      "outputs": [
        {
          "output_type": "execute_result",
          "data": {
            "text/plain": [
              "<matplotlib.image.AxesImage at 0x7fdaf0064240>"
            ]
          },
          "metadata": {
            "tags": []
          },
          "execution_count": 75
        },
        {
          "output_type": "display_data",
          "data": {
            "image/png": "[encoded data removed]",
            "text/plain": [
              "<Figure size 432x288 with 1 Axes>"
            ]
          },
          "metadata": {
            "tags": [],
            "needs_background": "light"
          }
        }
      ]
    },
    {
      "cell_type": "code",
      "metadata": {
        "id": "UWlabUSJ74qK",
        "colab_type": "code",
        "outputId": "57e327e3-409d-44c4-e3e7-4c33b04aa932",
        "colab": {
          "base_uri": "https://localhost:8080/",
          "height": 287
        }
      },
      "source": [
        "rgb_weights = [0.2989, 0.5870, 0.1140]\n",
        "an_image = np.array(img)\n",
        "grayscale_image = np.dot(an_image[...,:3], rgb_weights)\n",
        "an_image = Image.fromarray(grayscale_image)\n",
        "plt.imshow(an_image, cmap=plt.get_cmap(\"gray\"))"
      ],
      "execution_count": 76,
      "outputs": [
        {
          "output_type": "execute_result",
          "data": {
            "text/plain": [
              "<matplotlib.image.AxesImage at 0x7fdaf870d400>"
            ]
          },
          "metadata": {
            "tags": []
          },
          "execution_count": 76
        },
        {
          "output_type": "display_data",
          "data": {
            "image/png": "[encoded data removed]",
            "text/plain": [
              "<Figure size 432x288 with 1 Axes>"
            ]
          },
          "metadata": {
            "tags": [],
            "needs_background": "light"
          }
        }
      ]
    },
    {
      "cell_type": "code",
      "metadata": {
        "id": "WiQMB3Vu8IXH",
        "colab_type": "code",
        "outputId": "797f883d-8f79-4d6c-902d-aa75ab5b997a",
        "colab": {
          "base_uri": "https://localhost:8080/",
          "height": 283
        }
      },
      "source": [
        "import cv2\n",
        "new_img=cv2.resize(grayscale_image, (28,28))\n",
        "plt.imshow(new_img, cmap=plt.get_cmap(\"gray\"))\n",
        "new_img=np.array([new_img])\n",
        "print(new_img.shape)"
      ],
      "execution_count": 77,
      "outputs": [
        {
          "output_type": "stream",
          "text": [
            "(1, 28, 28)\n"
          ],
          "name": "stdout"
        },
        {
          "output_type": "display_data",
          "data": {
            "image/png": "[encoded data removed]",
            "text/plain": [
              "<Figure size 432x288 with 1 Axes>"
            ]
          },
          "metadata": {
            "tags": [],
            "needs_background": "light"
          }
        }
      ]
    },
    {
      "cell_type": "code",
      "metadata": {
        "id": "QrMRwS8U9HZW",
        "colab_type": "code",
        "outputId": "803f39da-9f0e-41a1-ad97-482bb1247604",
        "colab": {
          "base_uri": "https://localhost:8080/",
          "height": 69
        }
      },
      "source": [
        "my_pred=model.predict(new_img)\n",
        "flag = np.argmax(my_pred)\n",
        "print (class_names[flag])\n",
        "print(my_pred)"
      ],
      "execution_count": 78,
      "outputs": [
        {
          "output_type": "stream",
          "text": [
            "T-shirt/top\n",
            "[[  886.341    -356.9327    355.62827   -83.01244  -157.84052 -2891.4998\n",
            "    747.6732  -2210.8867    207.91953 -2084.9075 ]]\n"
          ],
          "name": "stdout"
        }
      ]
    },
    {
      "cell_type": "code",
      "metadata": {
        "id": "YR91aCT4geuY",
        "colab_type": "code",
        "colab": {}
      },
      "source": [
        ""
      ],
      "execution_count": 0,
      "outputs": []
    }
  ]
}